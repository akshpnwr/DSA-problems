{
 "cells": [
  {
   "cell_type": "code",
   "execution_count": 3,
   "metadata": {},
   "outputs": [
    {
     "name": "stdout",
     "output_type": "stream",
     "text": [
      "True\n"
     ]
    }
   ],
   "source": [
    "\n",
    "\n",
    "def isPalindrome( x:int):\n",
    "    num = x\n",
    "    val = 0\n",
    "    while(num!=0):\n",
    "        temp = int(num%10)\n",
    "        val =int( val*10+ temp)\n",
    "        num=int(num/10)\n",
    "    \n",
    "    return x == val\n",
    "\n",
    "isPalindrome(52525)\n"
   ]
  }
 ],
 "metadata": {
  "kernelspec": {
   "display_name": "Python 3.10.6 64-bit",
   "language": "python",
   "name": "python3"
  },
  "language_info": {
   "codemirror_mode": {
    "name": "ipython",
    "version": 3
   },
   "file_extension": ".py",
   "mimetype": "text/x-python",
   "name": "python",
   "nbconvert_exporter": "python",
   "pygments_lexer": "ipython3",
   "version": "3.10.6"
  },
  "orig_nbformat": 4,
  "vscode": {
   "interpreter": {
    "hash": "22121bc82ea6fbab78da0edecedb6d1bafaf115fd07c5a671c81a396a2cd763a"
   }
  }
 },
 "nbformat": 4,
 "nbformat_minor": 2
}
