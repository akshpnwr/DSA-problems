{
 "cells": [
  {
   "cell_type": "code",
   "execution_count": 23,
   "metadata": {},
   "outputs": [
    {
     "data": {
      "text/plain": [
       "[0, 2]"
      ]
     },
     "execution_count": 23,
     "metadata": {},
     "output_type": "execute_result"
    }
   ],
   "source": [
    "\n",
    "def twoSum(nums, target):\n",
    "    prevMap = {}\n",
    "    for i,num in enumerate(nums):\n",
    "        val = target - num\n",
    "        if(val in prevMap):\n",
    "            return [prevMap[val],i]\n",
    "        else:\n",
    "            prevMap[num] = i\n",
    "\n",
    "twoSum([2,1,7,6],9)\n",
    "\n",
    "\n"
   ]
  }
 ],
 "metadata": {
  "kernelspec": {
   "display_name": "Python 3.10.6 64-bit",
   "language": "python",
   "name": "python3"
  },
  "language_info": {
   "codemirror_mode": {
    "name": "ipython",
    "version": 3
   },
   "file_extension": ".py",
   "mimetype": "text/x-python",
   "name": "python",
   "nbconvert_exporter": "python",
   "pygments_lexer": "ipython3",
   "version": "3.10.6 (tags/v3.10.6:9c7b4bd, Aug  1 2022, 21:53:49) [MSC v.1932 64 bit (AMD64)]"
  },
  "orig_nbformat": 4,
  "vscode": {
   "interpreter": {
    "hash": "22121bc82ea6fbab78da0edecedb6d1bafaf115fd07c5a671c81a396a2cd763a"
   }
  }
 },
 "nbformat": 4,
 "nbformat_minor": 2
}
