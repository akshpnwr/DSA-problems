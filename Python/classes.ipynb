{
 "cells": [
  {
   "cell_type": "code",
   "execution_count": 7,
   "metadata": {},
   "outputs": [
    {
     "name": "stdout",
     "output_type": "stream",
     "text": [
      "1 akash\n",
      "2 asbdsaj\n"
     ]
    }
   ],
   "source": [
    "class student: \n",
    "    def __init__(self,id,name):\n",
    "        self.name = name\n",
    "        self.id = id\n",
    "    def print(self):\n",
    "        print('{} {}'.format(self.id,self.name))\n",
    "\n",
    "\n",
    "s1 = student(1,'akash')\n",
    "s2  = student(2,'asbdsaj')\n",
    "s1.print()\n",
    "s2.print()\n",
    "\n"
   ]
  }
 ],
 "metadata": {
  "kernelspec": {
   "display_name": "Python 3.10.6 64-bit",
   "language": "python",
   "name": "python3"
  },
  "language_info": {
   "codemirror_mode": {
    "name": "ipython",
    "version": 3
   },
   "file_extension": ".py",
   "mimetype": "text/x-python",
   "name": "python",
   "nbconvert_exporter": "python",
   "pygments_lexer": "ipython3",
   "version": "3.10.6"
  },
  "orig_nbformat": 4,
  "vscode": {
   "interpreter": {
    "hash": "22121bc82ea6fbab78da0edecedb6d1bafaf115fd07c5a671c81a396a2cd763a"
   }
  }
 },
 "nbformat": 4,
 "nbformat_minor": 2
}
