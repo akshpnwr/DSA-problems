{
 "cells": [
  {
   "cell_type": "code",
   "execution_count": 9,
   "metadata": {},
   "outputs": [
    {
     "name": "stdout",
     "output_type": "stream",
     "text": [
      "<__main__.Node object at 0x00000142026A3580> <__main__.Node object at 0x00000142026A3580>\n",
      "mon\n",
      "tue\n",
      "wed\n",
      "thu\n"
     ]
    }
   ],
   "source": [
    "class Node:\n",
    "    def __init__(self, dataVal=None):\n",
    "        self.dataVal = dataVal\n",
    "        self.nextVal = None\n",
    "class SLinkedList:\n",
    "    def __init__(self):\n",
    "        self.headVal = None\n",
    "    def printList(self):\n",
    "        printVal = self.headVal\n",
    "        while(printVal is not None):\n",
    "            print(printVal.dataVal)\n",
    "            printVal = printVal.nextVal \n",
    "\n",
    "l1 = SLinkedList()\n",
    "\n",
    "l1.headVal = Node('mon')\n",
    "\n",
    "e2 = Node('tue')\n",
    "e3 = Node('wed')\n",
    "e4 = Node('thu')\n",
    "\n",
    "l1.headVal.nextVal = e2\n",
    "e2.nextVal = e3\n",
    "e3.nextVal = e4\n",
    "\n",
    "l1.printList()\n"
   ]
  }
 ],
 "metadata": {
  "kernelspec": {
   "display_name": "Python 3.10.6 64-bit",
   "language": "python",
   "name": "python3"
  },
  "language_info": {
   "codemirror_mode": {
    "name": "ipython",
    "version": 3
   },
   "file_extension": ".py",
   "mimetype": "text/x-python",
   "name": "python",
   "nbconvert_exporter": "python",
   "pygments_lexer": "ipython3",
   "version": "3.10.6"
  },
  "orig_nbformat": 4,
  "vscode": {
   "interpreter": {
    "hash": "22121bc82ea6fbab78da0edecedb6d1bafaf115fd07c5a671c81a396a2cd763a"
   }
  }
 },
 "nbformat": 4,
 "nbformat_minor": 2
}
