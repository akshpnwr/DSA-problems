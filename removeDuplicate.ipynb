{
 "cells": [
  {
   "cell_type": "code",
   "execution_count": 33,
   "metadata": {},
   "outputs": [
    {
     "name": "stdout",
     "output_type": "stream",
     "text": [
      "5 [1, 2, 3, 4, 5, 4, 5]\n"
     ]
    }
   ],
   "source": [
    "\n",
    "\n",
    "from typing import List\n",
    "\n",
    "def removeDuplicate(nums: List[int]):\n",
    "    x=1\n",
    "    for i in range(1,len(nums)):\n",
    "        if(nums[i] !=nums[i-1]):\n",
    "            nums[x] = nums[i]\n",
    "            x+=1\n",
    "    return x\n",
    "\n",
    "removeDuplicate([1,1,2,3,4,4,5])\n"
   ]
  }
 ],
 "metadata": {
  "kernelspec": {
   "display_name": "Python 3.10.6 64-bit",
   "language": "python",
   "name": "python3"
  },
  "language_info": {
   "codemirror_mode": {
    "name": "ipython",
    "version": 3
   },
   "file_extension": ".py",
   "mimetype": "text/x-python",
   "name": "python",
   "nbconvert_exporter": "python",
   "pygments_lexer": "ipython3",
   "version": "3.10.6"
  },
  "orig_nbformat": 4,
  "vscode": {
   "interpreter": {
    "hash": "22121bc82ea6fbab78da0edecedb6d1bafaf115fd07c5a671c81a396a2cd763a"
   }
  }
 },
 "nbformat": 4,
 "nbformat_minor": 2
}
